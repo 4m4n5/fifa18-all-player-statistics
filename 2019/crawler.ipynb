{
 "cells": [
  {
   "cell_type": "code",
   "execution_count": 1,
   "metadata": {},
   "outputs": [],
   "source": [
    "import numpy as np\n",
    "import pandas as pd \n",
    "from pandas import DataFrame\n",
    "import re\n",
    "import urllib.request\n",
    "import requests\n",
    "from bs4 import BeautifulSoup\n",
    "import warnings\n",
    "warnings.filterwarnings('ignore')\n",
    "pd.set_option('display.max_columns', 100)"
   ]
  },
  {
   "cell_type": "code",
   "execution_count": 2,
   "metadata": {},
   "outputs": [],
   "source": [
    "base_url = \"https://sofifa.com/players?offset=\"\n",
    "columns = ['ID', 'Name', 'Age', 'Photo', 'Nationality', 'Flag', 'Overall', 'Potential', 'Club', \n",
    "           'Club Logo', 'Value', 'Wage', 'Special']\n",
    "data = DataFrame(columns=columns)\n",
    "for offset in range(304):\n",
    "    url = base_url + str(offset*60)\n",
    "    source_code = requests.get(url)\n",
    "    plain_text = source_code.text\n",
    "    soup = BeautifulSoup(plain_text)\n",
    "    table_body = soup.find('tbody')\n",
    "    for row in table_body.findAll('tr'):\n",
    "        td = row.findAll('td')\n",
    "        picture = td[0].find('img').get('data-src')\n",
    "        pid = td[0].find('img').get('id')\n",
    "        nationality = td[1].find('a').get('title')\n",
    "        flag_img = td[1].find('img').get('data-src')\n",
    "        name = td[1].findAll('a')[1].text\n",
    "        age = td[2].find('div').text.strip()\n",
    "        overall = td[3].text.strip()\n",
    "        potential = td[4].text.strip()\n",
    "        club = td[5].find('a').text\n",
    "        club_logo = td[5].find('img').get('data-src')\n",
    "        value = td[6].text.strip()\n",
    "        wage = td[7].text.strip()\n",
    "        special = td[8].text.strip()\n",
    "        player_data = DataFrame([[pid, name, age, picture, nationality, flag_img, overall, potential, club, club_logo, value, wage, special]])\n",
    "        player_data.columns = columns\n",
    "        data = data.append(player_data, ignore_index=True)\n",
    "    offset+=1\n",
    "data = data.drop_duplicates()"
   ]
  },
  {
   "cell_type": "code",
   "execution_count": 37,
   "metadata": {
    "scrolled": true
   },
   "outputs": [],
   "source": [
    "master_data = DataFrame()\n",
    "r = 0\n",
    "player_data_url = 'https://sofifa.com/player/'\n",
    "for index, row in data.iterrows():\n",
    "    skill_names = []\n",
    "    skill_map = {'ID' : str(row['ID'])}\n",
    "    url = player_data_url + str(row['ID'])\n",
    "    source_code = requests.get(url)\n",
    "    plain_text = source_code.text\n",
    "    soup = BeautifulSoup(plain_text)\n",
    "    categories = soup.find('div', {'class': 'teams'}).findAll('div', {'class': 'column col-4'})[0:3]\n",
    "    for category in categories:\n",
    "        skills = category.findAll('li')\n",
    "        for skill in skills:\n",
    "            if(skill.find('label') != None):\n",
    "                a = skill.text\n",
    "                n = skill.find('label').text\n",
    "                value = a.replace(n, '').strip()\n",
    "                skill_names.append(n)\n",
    "                skill_map[str(n)] = value\n",
    "    if(soup.find('aside').find('div', {'class': 'card mb-2'}).find('div', {'class': 'card-body'})):\n",
    "        card_rows = soup.find('aside').find('div', {'class': 'card mb-2'}).find('div', {'class': 'card-body'}).findAll('div', {'class': 'columns'})\n",
    "        for c_row in card_rows:\n",
    "            attributes = c_row.findAll('div', {'class': re.compile('column col-sm-2 text-center')})\n",
    "            for attribute in attributes:\n",
    "                if(attribute.find('div')):\n",
    "                    text = attribute.text\n",
    "                    name = ''.join(re.findall('[a-zA-Z]', text))\n",
    "                    value = text.replace(name, '').strip()\n",
    "                    skill_names.append(name)\n",
    "                    skill_map[str(name)] = value\n",
    "    else:\n",
    "        for name in master_data.columns[12:38]:\n",
    "            skill_names.append(name)\n",
    "            skill_map[str(name)] = None\n",
    "    sections = soup.find('article').findAll('div', {'class': 'mb-2'})[1:3]\n",
    "    first = sections[0].findAll('div', {'class': 'column col-4'})\n",
    "    second = sections[1].findAll('div', {'class': 'column col-4'})[:-1]\n",
    "    sections = first + second\n",
    "    for section in sections:\n",
    "        items = section.find('ul').findAll('li')\n",
    "        for item in items:\n",
    "            value = int(re.findall(r'\\d+', item.text)[0])\n",
    "            name = ''.join(re.findall('[a-zA-Z]*', item.text))\n",
    "            skill_names.append(name)\n",
    "            skill_map[str(name)] = value\n",
    "    attr_data = DataFrame(columns=skill_names)\n",
    "    for key in skill_map.keys():\n",
    "        if(key == 'Position'):\n",
    "            if(skill_map['Position'] in ('RES', 'SUB')):\n",
    "                skill_map['Position'] = soup.find('article').find('div', {'class': 'meta'}).find('span').text\n",
    "        attr_data.loc[r,key] = skill_map[key]\n",
    "    r = r + 1\n",
    "    attr_data = attr_data.loc[:, ~attr_data.columns.duplicated()]\n",
    "    master_data = master_data.append([attr_data])"
   ]
  },
  {
   "cell_type": "code",
   "execution_count": 43,
   "metadata": {},
   "outputs": [],
   "source": [
    "full_data = pd.merge(data, master_data, left_index=True, right_index=True)\n",
    "full_data.drop('ID_y', axis=1, inplace=True)\n",
    "full_data = full_data.rename(index=str, columns={\"ID_x\": \"ID\"})\n",
    "full_data.to_csv('data.csv', encoding='utf-8-sig')"
   ]
  }
 ],
 "metadata": {
  "kernelspec": {
   "display_name": "Python 3",
   "language": "python",
   "name": "python3"
  },
  "language_info": {
   "codemirror_mode": {
    "name": "ipython",
    "version": 3
   },
   "file_extension": ".py",
   "mimetype": "text/x-python",
   "name": "python",
   "nbconvert_exporter": "python",
   "pygments_lexer": "ipython3",
   "version": "3.6.5"
  }
 },
 "nbformat": 4,
 "nbformat_minor": 2
}
