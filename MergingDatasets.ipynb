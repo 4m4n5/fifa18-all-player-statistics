{
 "cells": [
  {
   "cell_type": "code",
   "execution_count": 1,
   "metadata": {
    "collapsed": true
   },
   "outputs": [],
   "source": [
    "# Initial imports\n",
    "import numpy as np\n",
    "import pandas as pd \n",
    "from pandas import DataFrame, Series\n",
    "import matplotlib.pyplot as plt\n",
    "import seaborn as sns\n",
    "from scipy import stats\n",
    "%matplotlib inline\n",
    "\n",
    "import random\n",
    "import urllib.request\n",
    "import requests\n",
    "from bs4 import BeautifulSoup\n",
    "import warnings\n",
    "warnings.filterwarnings('ignore')"
   ]
  },
  {
   "cell_type": "code",
   "execution_count": 2,
   "metadata": {
    "collapsed": true
   },
   "outputs": [],
   "source": [
    "data = pd.read_csv('Complete/CompleteDataset.csv')\n",
    "position_data = pd.read_csv('Complete/PlayerPlayingPositionData.csv')"
   ]
  },
  {
   "cell_type": "code",
   "execution_count": 11,
   "metadata": {
    "collapsed": false
   },
   "outputs": [
    {
     "data": {
      "text/plain": [
       "17981"
      ]
     },
     "execution_count": 11,
     "metadata": {},
     "output_type": "execute_result"
    }
   ],
   "source": [
    "len(data['ID'])"
   ]
  },
  {
   "cell_type": "code",
   "execution_count": 10,
   "metadata": {
    "collapsed": false
   },
   "outputs": [
    {
     "data": {
      "text/plain": [
       "17929"
      ]
     },
     "execution_count": 10,
     "metadata": {},
     "output_type": "execute_result"
    }
   ],
   "source": [
    "len(position_data['ID'].unique())"
   ]
  },
  {
   "cell_type": "code",
   "execution_count": 13,
   "metadata": {
    "collapsed": false
   },
   "outputs": [],
   "source": [
    "f = pd.merge(data, position_data, left_index=True, right_index=True)"
   ]
  },
  {
   "cell_type": "code",
   "execution_count": 24,
   "metadata": {
    "collapsed": false
   },
   "outputs": [],
   "source": [
    "f = f.rename(index=str, columns={\"ID_y\": \"ID\"})"
   ]
  },
  {
   "cell_type": "code",
   "execution_count": 26,
   "metadata": {
    "collapsed": false
   },
   "outputs": [],
   "source": [
    "f.to_csv('Complete/CompleteDataset.csv', encoding='utf-8')"
   ]
  },
  {
   "cell_type": "code",
   "execution_count": 25,
   "metadata": {
    "collapsed": false
   },
   "outputs": [
    {
     "data": {
      "text/plain": [
       "Name                   False\n",
       "Age                    False\n",
       "Photo                  False\n",
       "Nationality            False\n",
       "Flag                   False\n",
       "Overall                False\n",
       "Potential              False\n",
       "Club                    True\n",
       "Club Logo              False\n",
       "Value                  False\n",
       "Wage                   False\n",
       "Special                False\n",
       "Acceleration           False\n",
       "Aggression             False\n",
       "Agility                False\n",
       "Balance                False\n",
       "Ball control           False\n",
       "Composure              False\n",
       "Crossing               False\n",
       "Curve                  False\n",
       "Dribbling              False\n",
       "Finishing              False\n",
       "Free kick accuracy     False\n",
       "GK diving              False\n",
       "GK handling            False\n",
       "GK kicking             False\n",
       "GK positioning         False\n",
       "GK reflexes            False\n",
       "Heading accuracy       False\n",
       "ID                     False\n",
       "                       ...  \n",
       "Strength               False\n",
       "Vision                 False\n",
       "Volleys                False\n",
       "CAM                     True\n",
       "CB                      True\n",
       "CDM                     True\n",
       "CF                      True\n",
       "CM                      True\n",
       "LAM                     True\n",
       "LB                      True\n",
       "LCB                     True\n",
       "LCM                     True\n",
       "LDM                     True\n",
       "LF                      True\n",
       "LM                      True\n",
       "LS                      True\n",
       "LW                      True\n",
       "LWB                     True\n",
       "Preferred Positions    False\n",
       "RAM                     True\n",
       "RB                      True\n",
       "RCB                     True\n",
       "RCM                     True\n",
       "RDM                     True\n",
       "RF                      True\n",
       "RM                      True\n",
       "RS                      True\n",
       "RW                      True\n",
       "RWB                     True\n",
       "ST                      True\n",
       "dtype: bool"
      ]
     },
     "execution_count": 25,
     "metadata": {},
     "output_type": "execute_result"
    }
   ],
   "source": [
    "pd.isnull(d).sum() > 0"
   ]
  },
  {
   "cell_type": "code",
   "execution_count": null,
   "metadata": {
    "collapsed": true
   },
   "outputs": [],
   "source": []
  }
 ],
 "metadata": {
  "kernelspec": {
   "display_name": "Python 3",
   "language": "python",
   "name": "python3"
  },
  "language_info": {
   "codemirror_mode": {
    "name": "ipython",
    "version": 3
   },
   "file_extension": ".py",
   "mimetype": "text/x-python",
   "name": "python",
   "nbconvert_exporter": "python",
   "pygments_lexer": "ipython3",
   "version": "3.6.0"
  }
 },
 "nbformat": 4,
 "nbformat_minor": 2
}
